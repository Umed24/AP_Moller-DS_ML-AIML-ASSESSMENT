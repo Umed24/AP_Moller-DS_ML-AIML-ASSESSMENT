{
 "cells": [
  {
   "cell_type": "raw",
   "id": "028a203d-4266-4774-81f7-b4f5e36203da",
   "metadata": {},
   "source": [
    "Strategy Used to Deal with Outliers and poor quality of data in some rows: \n",
    "\n",
    "1) Handling Negative Values: The lambda function in df['Sourcing Cost'] ensures that any negative values are replaced with mean.\n",
    "2) Used Min-Max Scaling Techniques for the Better Fitting and to overcome poor quality data rows\n",
    "3) Z-Score Based Outlier Detection for Removal of outliers\n",
    "4) One-Hot Encoding: Categorical columns are encoded using one-hot encoding to convert categorical variables into Numeric\n",
    "5) Handling Missing Values: Missing values in numerical columns are filled with the mean of the respective column, while missing values in categorical columns are filled with the mode.\n",
    "\n",
    "\n",
    "\n",
    "\n",
    "\n",
    "\n",
    "Approaches Considered for the Forecasting were: \n",
    " \n",
    "1) To build a Linear Regression Model as Based on the dataset visualization it was looking like linear regression would work better on the basis of realationships in dataset of the Target Variable\n",
    "2) To build a Random Forest Model as Based on the dataset visualization as it help is improving the accuracy and based on the features in the dataset and the combination of those features and the pattern in the dataset would be better identified by the Random forest\n",
    "3) To build a Gradient Boosting Model as Based on the dataset visualization, it reduces Overfitting in the dataset and to choose the weak feature in dataset and based on the better building of model.\n",
    "4) To Use the Pipelining Technique for the model Building.\n",
    "\n",
    "\n",
    "\n",
    "\n",
    "\n",
    "\n",
    "Final Approach for the Model Building:\n",
    "\n",
    "1) The Train and Test Datasets were Preprocessed based on the Z scores, Min-Max Scaling, handling missing values, One Hot Encoding, Handling Negative Values\n",
    "2) The Models were trained to check which model best suits this dataset, the models which were trained are Linear Regression , Random Forest, Gradient Boosting and based on these models another new model which was later considered was the XGBoost, as it is better fitting model on this dataset due to its Feature selection , dealing with outliers and complex patterns\n",
    "\n",
    "3) It was observed that based on the model building with R2 Evaluation Metrics\n",
    "  \n",
    "4)  Linear Regression: Mean R2 Score: 0.26501803976195343, Std R2 Score: 0.16060222567440294\n",
    "    Random Forest: Mean R2 Score: 0.8263076180823326, Std R2 Score: 0.002875922294374592\r",
    "    \n",
    "Gradient Boosting: Mean R2 Score: 0.7758506041402018, Std R2 Score: 0.029655439437754 2    \r\n",
    "XGBoost: Mean R2 Score: 0.8263028702365667, Std R2 Score: 0.00287239444345779\n",
    "    \n",
    "  Linear Regression performed Worst comparativelthe Models which were considered are Random Forest, gradient Boosting, XGBoost.5\n",
    "6) The models were Trained individually and the Predictions were mad6\n",
    "7) R2 Scores of Individual models are:\n",
    "        Random Forest     - 0.5\n",
    "          Gradient boosting - 0.592\n",
    "        XGBoost           - 0.5917\n",
    "8) To Overcome the weakness of models and consider the strong parameters of the other models, basically considering Strong prediction of certain model on a feature on which other models fail to achive.8\n",
    "9) So to again Increase the Accuracy the Ensemble model technique was considered, Combination of all three models were done using weighted method and the R2 Score increased.\n",
    "       R2 Score Ensembled Model: 0.\n",
    "\n",
    " \n"
   ]
  },
  {
   "cell_type": "markdown",
   "id": "110b9313-41ce-4d96-a9e6-935c07bc3ca4",
   "metadata": {},
   "source": [
    "Importing Datasets"
   ]
  },
  {
   "cell_type": "code",
   "execution_count": 2,
   "id": "20f0b3bc-fa5a-45df-8b35-728847b47954",
   "metadata": {},
   "outputs": [
    {
     "name": "stdout",
     "output_type": "stream",
     "text": [
      "  ProductType Manufacturer Area Code Sourcing Channel Product Size  \\\n",
      "0        NTM3           X1       A28        WHOLESALE        Large   \n",
      "1        NTM2           X1        A9           DIRECT        Large   \n",
      "2        NTM3           X2       A20           DIRECT        Large   \n",
      "3        NTM3           X1       A18        WHOLESALE        Small   \n",
      "4        NTM2           X1       A28           DIRECT        Large   \n",
      "\n",
      "  Product Type Month of Sourcing  Sourcing Cost  \n",
      "0       Powder            May-21          10.16  \n",
      "1       Powder            Oct-20         134.28  \n",
      "2       Powder            Dec-20          12.46  \n",
      "3       Powder            Feb-21         107.22  \n",
      "4       Liquid            Nov-20         197.76  \n"
     ]
    }
   ],
   "source": [
    "import numpy as np\n",
    "import pandas as pd\n",
    "\n",
    "# Defining the file path of the dataset\n",
    "file_path_tr = 'Train-AP.csv'\n",
    "file_path_ts = 'Test-Ap.csv'\n",
    "\n",
    "# Read the train dataset\n",
    "df = pd.read_csv(file_path_tr)\n",
    "\n",
    "# Read the test dataset\n",
    "df_test = pd.read_csv(file_path_ts)\n",
    "\n",
    "# Displaying the first few rows of the dataset\n",
    "print(df.head())"
   ]
  },
  {
   "cell_type": "markdown",
   "id": "034533c1-ef57-4c32-99fa-522657495656",
   "metadata": {},
   "source": [
    "Preprocessing of Training Dataset"
   ]
  },
  {
   "cell_type": "code",
   "execution_count": 3,
   "id": "64182ce5-43b1-4d5c-9263-d705c14e26ba",
   "metadata": {},
   "outputs": [
    {
     "name": "stdout",
     "output_type": "stream",
     "text": [
      "  ProductType Manufacturer Area Code Sourcing Channel Product Size  \\\n",
      "0        NTM3           X1       A28        WHOLESALE        Large   \n",
      "1        NTM2           X1        A9           DIRECT        Large   \n",
      "2        NTM3           X2       A20           DIRECT        Large   \n",
      "3        NTM3           X1       A18        WHOLESALE        Small   \n",
      "4        NTM2           X1       A28           DIRECT        Large   \n",
      "\n",
      "  Product Type Month of Sourcing  Sourcing Cost  \n",
      "0       Powder            May-21          10.16  \n",
      "1       Powder            Oct-20         134.28  \n",
      "2       Powder            Dec-20          12.46  \n",
      "3       Powder            Feb-21         107.22  \n",
      "4       Liquid            Nov-20         197.76  \n",
      "<class 'pandas.core.frame.DataFrame'>\n",
      "RangeIndex: 550176 entries, 0 to 550175\n",
      "Data columns (total 8 columns):\n",
      " #   Column             Non-Null Count   Dtype  \n",
      "---  ------             --------------   -----  \n",
      " 0   ProductType        550176 non-null  object \n",
      " 1   Manufacturer       550176 non-null  object \n",
      " 2   Area Code          550176 non-null  object \n",
      " 3   Sourcing Channel   550176 non-null  object \n",
      " 4   Product Size       550176 non-null  object \n",
      " 5   Product Type       550176 non-null  object \n",
      " 6   Month of Sourcing  550176 non-null  object \n",
      " 7   Sourcing Cost      550176 non-null  float64\n",
      "dtypes: float64(1), object(7)\n",
      "memory usage: 33.6+ MB\n",
      "None\n",
      "       Sourcing Cost\n",
      "count  550176.000000\n",
      "mean      108.817286\n",
      "std       104.390093\n",
      "min      -196.070000\n",
      "25%        57.000000\n",
      "50%       132.000000\n",
      "75%       146.150000\n",
      "max     32632.500000\n"
     ]
    }
   ],
   "source": [
    "print(df.head()) \n",
    "print(df.info())  \n",
    "print(df.describe())  "
   ]
  },
  {
   "cell_type": "code",
   "execution_count": 12,
   "id": "96feab97-17a6-4efb-8bd6-4fae401b3370",
   "metadata": {},
   "outputs": [
    {
     "name": "stdout",
     "output_type": "stream",
     "text": [
      "         ProductType   Manufacturer      Area Code  Sourcing Channel  \\\n",
      "count  533746.000000  533746.000000  533746.000000     533746.000000   \n",
      "mean        0.828276       0.226104      22.804118          0.246885   \n",
      "std         0.727100       0.418308      14.384537          0.612000   \n",
      "min         0.000000       0.000000       0.000000          0.000000   \n",
      "25%         0.000000       0.000000      11.000000          0.000000   \n",
      "50%         1.000000       0.000000      21.000000          0.000000   \n",
      "75%         1.000000       0.000000      37.000000          0.000000   \n",
      "max         2.000000       1.000000      44.000000          2.000000   \n",
      "\n",
      "        Product Size   Product Type  Month of Sourcing  Sourcing Cost  \n",
      "count  533746.000000  533746.000000      533746.000000  533746.000000  \n",
      "mean        1.397045       0.853211           5.029495       0.258551  \n",
      "std         0.504125       0.353896           3.120337       0.136492  \n",
      "min         0.000000       0.000000           0.000000       0.000000  \n",
      "25%         1.000000       1.000000           2.000000       0.149982  \n",
      "50%         1.000000       1.000000           5.000000       0.318709  \n",
      "75%         2.000000       1.000000           8.000000       0.350532  \n",
      "max         2.000000       1.000000          10.000000       1.000000  \n"
     ]
    }
   ],
   "source": [
    "#Removing the Negative values in the dataset\n",
    "\n",
    "mean_sourcing_cost = df['Sourcing Cost'].mean()\n",
    "df['Sourcing Cost'] = df['Sourcing Cost'].apply(lambda x: max(0, x) if x < 0 else x)\n",
    "print(df.describe())"
   ]
  },
  {
   "cell_type": "code",
   "execution_count": 13,
   "id": "70c8a825-b59e-4578-9a52-3da65dc9184d",
   "metadata": {},
   "outputs": [],
   "source": [
    "# Conversion of Categorical Values into Numeric & Performing One Hot Encoding\n",
    "\n",
    "categorical_cols = ['ProductType', 'Manufacturer', 'Area Code', 'Sourcing Channel', 'Product Size', 'Product Type']\n",
    "df_encoded = pd.get_dummies(df, columns=categorical_cols)\n"
   ]
  },
  {
   "cell_type": "code",
   "execution_count": 14,
   "id": "ed327b6b-fdbe-4553-8ea8-6265ba4aecd8",
   "metadata": {},
   "outputs": [],
   "source": [
    "#Filling the missing values and Encoding via Label Encoder\n",
    "\n",
    "from sklearn.preprocessing import LabelEncoder\n",
    "\n",
    "numerical_cols = df.select_dtypes(include=['int', 'float']).columns\n",
    "df[numerical_cols] = df[numerical_cols].fillna(df[numerical_cols].mean())\n",
    "\n",
    "categorical_cols = df.select_dtypes(include=['object']).columns\n",
    "for col in categorical_cols:\n",
    "    df[col] = df[col].fillna(df[col].mode()[0])\n",
    "\n",
    "label_encoder = LabelEncoder()\n",
    "for col in categorical_cols:\n",
    "    df[col] = label_encoder.fit_transform(df[col])\n",
    "\n"
   ]
  },
  {
   "cell_type": "code",
   "execution_count": 15,
   "id": "157aa844-dfce-458e-9ee9-7892f5e33d3d",
   "metadata": {},
   "outputs": [],
   "source": [
    "# Calculate Z-score for each numerical column to Remove outliers\n",
    "\n",
    "z_scores = (df - df.mean()) / df.std()\n",
    "threshold = 3\n",
    "df = df[(z_scores < threshold).all(axis=1)]\n"
   ]
  },
  {
   "cell_type": "code",
   "execution_count": 16,
   "id": "1a481e79-db42-4ed2-a20a-54bdac00ed9d",
   "metadata": {},
   "outputs": [],
   "source": [
    "# Min- Max Scaling for the better training\n",
    "\n",
    "from sklearn.preprocessing import LabelEncoder, MinMaxScaler\n",
    "\n",
    "scaler = MinMaxScaler()\n",
    "target_feature = df['Sourcing Cost'].values.reshape(-1, 1)\n",
    "scaled_target_feature = scaler.fit_transform(target_feature)\n",
    "df['Sourcing Cost'] = scaled_target_feature.flatten()"
   ]
  },
  {
   "cell_type": "code",
   "execution_count": 17,
   "id": "32459660-4c9d-44f1-9e2a-55403e34fbf1",
   "metadata": {},
   "outputs": [
    {
     "data": {
      "image/png": "[encoded data removed]",
      "text/plain": [
       "<Figure size 1200x800 with 1 Axes>"
      ]
     },
     "metadata": {},
     "output_type": "display_data"
    },
    {
     "data": {
      "text/plain": [
       "<Figure size 1200x800 with 0 Axes>"
      ]
     },
     "metadata": {},
     "output_type": "display_data"
    },
    {
     "data": {
      "image/png": "[encoded data removed]",
      "text/plain": [
       "<Figure size 640x480 with 9 Axes>"
      ]
     },
     "metadata": {},
     "output_type": "display_data"
    }
   ],
   "source": [
    "import matplotlib.pyplot as plt\n",
    "import seaborn as sns\n",
    "\n",
    "# Plotting boxplots for numerical columns to visualize outliers\n",
    "plt.figure(figsize=(12, 8))\n",
    "sns.boxplot(data=df.select_dtypes(include=['int', 'float']))\n",
    "plt.title('Boxplot of Numerical Columns')\n",
    "plt.xticks(rotation=45)\n",
    "plt.show()\n",
    "\n",
    "# Plotting histograms for numerical columns to visualize distribution\n",
    "plt.figure(figsize=(12, 8))\n",
    "df.select_dtypes(include=['int', 'float']).hist(bins=20)\n",
    "plt.suptitle('Histograms of Numerical Columns')\n",
    "plt.show()\n"
   ]
  },
  {
   "cell_type": "markdown",
   "id": "4722bbdb-4430-491f-893c-2532444d1157",
   "metadata": {},
   "source": [
    "Preprocessing of Test Dataset"
   ]
  },
  {
   "cell_type": "code",
   "execution_count": 31,
   "id": "96a6026f-6386-40a9-b55b-3c13a2281cc0",
   "metadata": {},
   "outputs": [
    {
     "name": "stdout",
     "output_type": "stream",
     "text": [
      "   ProductType  Manufacturer  Area Code  Sourcing Channel  Product Size  \\\n",
      "0            0             0          0                 0             2   \n",
      "1            0             0          1                 0             1   \n",
      "2            0             0          1                 1             1   \n",
      "3            0             0          2                 0             1   \n",
      "4            0             0         11                 0             1   \n",
      "\n",
      "   Product Type  Sourcing Cost  \n",
      "0             1       0.431713  \n",
      "1             1       0.657544  \n",
      "2             1       0.602333  \n",
      "3             1       0.586590  \n",
      "4             1       0.716832  \n",
      "<class 'pandas.core.frame.DataFrame'>\n",
      "RangeIndex: 96 entries, 0 to 95\n",
      "Data columns (total 7 columns):\n",
      " #   Column            Non-Null Count  Dtype  \n",
      "---  ------            --------------  -----  \n",
      " 0   ProductType       96 non-null     int32  \n",
      " 1   Manufacturer      96 non-null     int32  \n",
      " 2   Area Code         96 non-null     int32  \n",
      " 3   Sourcing Channel  96 non-null     int32  \n",
      " 4   Product Size      96 non-null     int32  \n",
      " 5   Product Type      96 non-null     int32  \n",
      " 6   Sourcing Cost     96 non-null     float64\n",
      "dtypes: float64(1), int32(6)\n",
      "memory usage: 3.1 KB\n",
      "None\n",
      "       ProductType  Manufacturer  Area Code  Sourcing Channel  Product Size  \\\n",
      "count    96.000000      96.00000  96.000000         96.000000     96.000000   \n",
      "mean      0.833333       0.21875  23.947917          0.458333      1.354167   \n",
      "std       0.735086       0.44017  13.995766          0.845006      0.502188   \n",
      "min       0.000000       0.00000   0.000000          0.000000      0.000000   \n",
      "25%       0.000000       0.00000  12.750000          0.000000      1.000000   \n",
      "50%       1.000000       0.00000  23.000000          0.000000      1.000000   \n",
      "75%       1.000000       0.00000  37.250000          1.000000      2.000000   \n",
      "max       2.000000       2.00000  44.000000          3.000000      2.000000   \n",
      "\n",
      "       Product Type  Sourcing Cost  \n",
      "count     96.000000      96.000000  \n",
      "mean       0.812500       0.442677  \n",
      "std        0.392361       0.227087  \n",
      "min        0.000000       0.000000  \n",
      "25%        1.000000       0.240805  \n",
      "50%        1.000000       0.490545  \n",
      "75%        1.000000       0.610552  \n",
      "max        1.000000       1.000000  \n",
      "   Sourcing Cost  ProductType_0  ProductType_1  ProductType_2  Manufacturer_0  \\\n",
      "0       0.431713           True          False          False            True   \n",
      "1       0.657544           True          False          False            True   \n",
      "2       0.602333           True          False          False            True   \n",
      "3       0.586590           True          False          False            True   \n",
      "4       0.716832           True          False          False            True   \n",
      "\n",
      "   Manufacturer_1  Manufacturer_2  Area Code_0  Area Code_1  Area Code_2  ...  \\\n",
      "0           False           False         True        False        False  ...   \n",
      "1           False           False        False         True        False  ...   \n",
      "2           False           False        False         True        False  ...   \n",
      "3           False           False        False        False         True  ...   \n",
      "4           False           False        False        False        False  ...   \n",
      "\n",
      "   Area Code_44  Sourcing Channel_0  Sourcing Channel_1  Sourcing Channel_2  \\\n",
      "0         False                True               False               False   \n",
      "1         False                True               False               False   \n",
      "2         False               False                True               False   \n",
      "3         False                True               False               False   \n",
      "4         False                True               False               False   \n",
      "\n",
      "   Sourcing Channel_3  Product Size_0  Product Size_1  Product Size_2  \\\n",
      "0               False           False           False            True   \n",
      "1               False           False            True           False   \n",
      "2               False           False            True           False   \n",
      "3               False           False            True           False   \n",
      "4               False           False            True           False   \n",
      "\n",
      "   Product Type_0  Product Type_1  \n",
      "0           False            True  \n",
      "1           False            True  \n",
      "2           False            True  \n",
      "3           False            True  \n",
      "4           False            True  \n",
      "\n",
      "[5 rows x 61 columns]\n"
     ]
    }
   ],
   "source": [
    "import pandas as pd\n",
    "from sklearn.preprocessing import LabelEncoder, MinMaxScaler\n",
    "from sklearn.preprocessing import LabelEncoder\n",
    "\n",
    "print(df_test.head())  \n",
    "print(df_test.info())  \n",
    "print(df_test.describe()) \n",
    "\n",
    "scaler = MinMaxScaler()\n",
    "target_feature = df_test['Sourcing Cost'].values.reshape(-1, 1)\n",
    "scaled_target_feature = scaler.fit_transform(target_feature)\n",
    "df_test['Sourcing Cost'] = scaled_target_feature.flatten()\n",
    "\n",
    "categorical_cols = ['ProductType', 'Manufacturer', 'Area Code', 'Sourcing Channel', 'Product Size', 'Product Type']\n",
    "df_encoded = pd.get_dummies(df_test, columns=categorical_cols)\n",
    "print(df_encoded.head())\n",
    "\n",
    "numerical_cols = df_test.select_dtypes(include=['int', 'float']).columns\n",
    "df_test[numerical_cols] = df_test[numerical_cols].fillna(df_test[numerical_cols].mean())\n",
    "categorical_cols = df_test.select_dtypes(include=['object']).columns\n",
    "for col in categorical_cols:\n",
    "    df_test[col] = df_test[col].fillna(df_test[col].mode()[0])\n",
    "\n",
    "label_encoder = LabelEncoder()\n",
    "for col in categorical_cols:\n",
    "    df_test[col] = label_encoder.fit_transform(df_test[col])\n",
    "\n",
    "\n"
   ]
  },
  {
   "cell_type": "markdown",
   "id": "1be22573-0340-4701-ab8b-703e6c952a08",
   "metadata": {},
   "source": [
    "Checking which Models can be used"
   ]
  },
  {
   "cell_type": "code",
   "execution_count": 35,
   "id": "99d48d0c-6a6a-4a89-b45f-1da5041d4ea0",
   "metadata": {},
   "outputs": [
    {
     "name": "stdout",
     "output_type": "stream",
     "text": [
      "Linear Regression: Mean R2 Score: 0.26501803976195343, Std R2 Score: 0.16060222567440294\n",
      "Random Forest: Mean R2 Score: 0.8263076180823326, Std R2 Score: 0.0028759222943745924\n",
      "Gradient Boosting: Mean R2 Score: 0.7758506041402018, Std R2 Score: 0.029655439437754862\n",
      "XGBoost: Mean R2 Score: 0.8263028702365667, Std R2 Score: 0.0028723944434577917\n"
     ]
    }
   ],
   "source": [
    "from sklearn.model_selection import cross_val_score\n",
    "from sklearn.linear_model import LinearRegression, LogisticRegression\n",
    "from sklearn.ensemble import RandomForestRegressor, GradientBoostingRegressor\n",
    "from xgboost import XGBRegressor\n",
    "from sklearn.metrics import r2_score, make_scorer\n",
    "from sklearn.datasets import make_regression\n",
    "\n",
    "X = df.drop(columns=['Sourcing Cost','Month of Sourcing'])\n",
    "y = df['Sourcing Cost']\n",
    "\n",
    "\n",
    "models = {\n",
    "    'Linear Regression': LinearRegression(),\n",
    "    'Random Forest': RandomForestRegressor(),\n",
    "    'Gradient Boosting': GradientBoostingRegressor(),\n",
    "    'XGBoost': XGBRegressor()\n",
    "}\n",
    "\n",
    "r2_scorer = make_scorer(r2_score)\n",
    "\n",
    "for name, model in models.items():\n",
    "    scores = cross_val_score(model, X, y, cv=5, scoring=r2_scorer)\n",
    "    print(f\"{name}: Mean R2 Score: {scores.mean()}, Std R2 Score: {scores.std()}\")\n"
   ]
  },
  {
   "cell_type": "markdown",
   "id": "d732aafb-2527-4a77-b0df-c70c7f692c6c",
   "metadata": {},
   "source": [
    "Building of Random Forest Model"
   ]
  },
  {
   "cell_type": "code",
   "execution_count": 19,
   "id": "25fca3e1-5270-4c5f-9efc-83b466062c1b",
   "metadata": {},
   "outputs": [
    {
     "name": "stdout",
     "output_type": "stream",
     "text": [
      "Mean Squared Error: 0.021033029557146466\n",
      "R-squared (R2) score: 0.5878414188131542\n"
     ]
    }
   ],
   "source": [
    "from sklearn.ensemble import RandomForestRegressor\n",
    "from sklearn.metrics import mean_squared_error\n",
    "from sklearn.metrics import r2_score\n",
    "\n",
    "\n",
    "X = df.drop(columns=['Sourcing Cost','Month of Sourcing'])\n",
    "y = df['Sourcing Cost']\n",
    "\n",
    "rf_model = RandomForestRegressor( random_state=42)\n",
    "rf_model.fit(X, y)\n",
    "\n",
    "X_test=df_test.drop(columns=['Sourcing Cost'])\n",
    "y_test = df_test['Sourcing Cost']\n",
    "\n",
    "y_pred_rf = rf_model.predict(X_test)\n",
    "\n",
    "mse = mean_squared_error(y_test, y_pred_rf)\n",
    "print(\"Mean Squared Error:\", mse)\n",
    "\n",
    "\n",
    "r2 = r2_score(y_test, y_pred_rf)\n",
    "print(\"R-squared (R2) score:\", r2)\n"
   ]
  },
  {
   "cell_type": "markdown",
   "id": "cc7565b9-e4d3-4ede-b860-7680a9c56d56",
   "metadata": {},
   "source": [
    "Building Gradient Boosting Model "
   ]
  },
  {
   "cell_type": "code",
   "execution_count": 20,
   "id": "006f01bf-7520-450a-9132-7c00bb3de6ca",
   "metadata": {},
   "outputs": [
    {
     "name": "stdout",
     "output_type": "stream",
     "text": [
      "Mean Squared Error: 0.02080397696263382\n",
      "R-squared (R2) score: 0.5923298826416767\n"
     ]
    }
   ],
   "source": [
    "from sklearn.ensemble import GradientBoostingRegressor\n",
    "\n",
    "X = df.drop(columns=['Sourcing Cost','Month of Sourcing'])\n",
    "y = df['Sourcing Cost']\n",
    "\n",
    "gb_model = GradientBoostingRegressor( random_state=42)\n",
    "gb_model.fit(X, y)\n",
    "\n",
    "y_pred_gb = gb_model.predict(X_test)\n",
    "\n",
    "mse = mean_squared_error(y_test, y_pred_gb)\n",
    "print(\"Mean Squared Error:\", mse)\n",
    "\n",
    "r2 = r2_score(y_test, y_pred_gb)\n",
    "\n",
    "print(\"R-squared (R2) score:\", r2)"
   ]
  },
  {
   "cell_type": "markdown",
   "id": "62a1f740-f9fb-4ee0-82e7-dbf9186b0ae0",
   "metadata": {},
   "source": [
    "Buiding XG Boost Model"
   ]
  },
  {
   "cell_type": "code",
   "execution_count": 22,
   "id": "c1c16c95-00a9-40b2-8b87-22bcf591fbc6",
   "metadata": {},
   "outputs": [
    {
     "name": "stdout",
     "output_type": "stream",
     "text": [
      "R-squared (R2) score: 0.5916483904261001\n"
     ]
    }
   ],
   "source": [
    "import xgboost as xgb\n",
    "\n",
    "xgb_model = xgb.XGBRegressor( random_state=42)\n",
    "xgb_model.fit(X, y)\n",
    "\n",
    "y_pred_xgb = xgb_model.predict(X_test)\n",
    "\n",
    "r2 = r2_score(y_test, y_pred_xgb)\n",
    "\n",
    "print(\"R-squared (R2) score:\", r2)\n"
   ]
  },
  {
   "cell_type": "markdown",
   "id": "d6ba1cb7-70b5-486b-8c1f-9d3f8646fbba",
   "metadata": {},
   "source": [
    "Combining the Model's Prediction using the Weighted Approach "
   ]
  },
  {
   "cell_type": "code",
   "execution_count": 39,
   "id": "5c18cfd7-807b-4ede-80b1-983b10dce807",
   "metadata": {},
   "outputs": [
    {
     "name": "stdout",
     "output_type": "stream",
     "text": [
      "R-squared (R2) score: 0.6103240025221848\n"
     ]
    }
   ],
   "source": [
    "r=0.2\n",
    "g=0.4\n",
    "xgb=0.4\n",
    "\n",
    "y_pred_combined = ( y_pred_rf*r + y_pred_gb*g+y_pred_xgb*xgb)\n",
    "\n",
    "r2 = r2_score(y_test, y_pred_combined)\n",
    "\n",
    "print(\"R-squared (R2) score:\", r2)\n"
   ]
  }
 ],
 "metadata": {
  "kernelspec": {
   "display_name": "Python 3 (ipykernel)",
   "language": "python",
   "name": "python3"
  },
  "language_info": {
   "codemirror_mode": {
    "name": "ipython",
    "version": 3
   },
   "file_extension": ".py",
   "mimetype": "text/x-python",
   "name": "python",
   "nbconvert_exporter": "python",
   "pygments_lexer": "ipython3",
   "version": "3.11.7"
  }
 },
 "nbformat": 4,
 "nbformat_minor": 5
}
